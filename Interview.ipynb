{
 "cells": [
  {
   "cell_type": "markdown",
   "metadata": {},
   "source": [
    "![title](objects/Bild0.PNG)"
   ]
  },
  {
   "cell_type": "code",
   "execution_count": 1,
   "metadata": {},
   "outputs": [
    {
     "data": {
      "application/vnd.jupyter.widget-view+json": {
       "model_id": "2ef20d56ef7f4e7a9aee28d90e2123bb",
       "version_major": 2,
       "version_minor": 0
      },
      "text/plain": [
       "Renderer(camera=PerspectiveCamera(aspect=1.6, fov=90.0, position=(-3.817976951599121, 10.856976985931396, 60.9…"
      ]
     },
     "metadata": {},
     "output_type": "display_data"
    },
    {
     "data": {
      "application/vnd.jupyter.widget-view+json": {
       "model_id": "8061550cc71f48be9b7631eabbcb7574",
       "version_major": 2,
       "version_minor": 0
      },
      "text/plain": [
       "HBox(children=(Label(value='Point size:'), FloatSlider(value=0.01, max=0.1, step=0.0001), Label(value='Backgro…"
      ]
     },
     "metadata": {},
     "output_type": "display_data"
    }
   ],
   "source": [
    "from pyntcloud import PyntCloud\n",
    "import open3d as od\n",
    "\n",
    "pathstart =\"objects/hirsch.stl\"\n",
    "path1 = \"objects/schraube.stl\"\n",
    "path2 =\"objects/Panther.stl\"\n",
    "path3 = \"objects/chair2.off\"\n",
    "path4 = \"objects/alien.stl\"\n",
    "path5 = \"objects/toilet.off\"\n",
    "path6 = \"objects/drone.off\"\n",
    "path7 = \"objects/Schnee.stl\"\n",
    "path8 = \"objects/lego.stl\"\n",
    "pathc1 = \"objects/Frosch.stl\"\n",
    "pathc2 = \"objects/Rolltreppe.stl\"\n",
    "n_size=32\n",
    "n_mode=\"density\"\n",
    "n_cmap=\"hsv\"\n",
    "\n",
    "if(path1.endswith(\".off\")):\n",
    "    test1 = PyntCloud.from_file(pathstart)\n",
    "else:\n",
    "    test1_or = od.io.read_triangle_mesh(pathstart)\n",
    "    test1 = PyntCloud.from_instance(\"open3d\", test1_or)\n",
    "cloud = test1.get_sample(\n",
    "            \"mesh_random\",\n",
    "            n=100000,\n",
    "            rgb=False,\n",
    "            normals=False,\n",
    "            as_PyntCloud=True)\n",
    "cloud.plot(initial_point_size=0.01)"
   ]
  },
  {
   "cell_type": "markdown",
   "metadata": {},
   "source": [
    "![title](objects/Bild1.PNG)"
   ]
  },
  {
   "cell_type": "code",
   "execution_count": 2,
   "metadata": {},
   "outputs": [
    {
     "data": {
      "application/vnd.jupyter.widget-view+json": {
       "model_id": "9c50aa3035694a418d78be12e9973c23",
       "version_major": 2,
       "version_minor": 0
      },
      "text/plain": [
       "Renderer(camera=PerspectiveCamera(aspect=1.6, fov=90.0, position=(0.023766979575157166, -4.9413604736328125, 1…"
      ]
     },
     "metadata": {},
     "output_type": "display_data"
    },
    {
     "data": {
      "application/vnd.jupyter.widget-view+json": {
       "model_id": "247c4f4f925c44c39ea2030502ddb1e6",
       "version_major": 2,
       "version_minor": 0
      },
      "text/plain": [
       "HBox(children=(Label(value='Point size:'), FloatSlider(value=0.01, max=0.1, step=0.0001), Label(value='Backgro…"
      ]
     },
     "metadata": {},
     "output_type": "display_data"
    },
    {
     "data": {
      "application/vnd.jupyter.widget-view+json": {
       "model_id": "7fcc95d5382e42bda426c476d4996b9e",
       "version_major": 2,
       "version_minor": 0
      },
      "text/plain": [
       "Renderer(camera=PerspectiveCamera(aspect=1.6, fov=90.0, position=(15.5, 35.733333587646484, 57.406060218811035…"
      ]
     },
     "metadata": {},
     "output_type": "display_data"
    }
   ],
   "source": [
    "\n",
    "if(path1.endswith(\".off\")):\n",
    "    test1 = PyntCloud.from_file(path1)\n",
    "else:\n",
    "    test1_or = od.io.read_triangle_mesh(path1)\n",
    "    test1 = PyntCloud.from_instance(\"open3d\", test1_or)\n",
    "\n",
    "cloud = test1.get_sample(\n",
    "            \"mesh_random\",\n",
    "            n=100000,\n",
    "            rgb=False,\n",
    "            normals=False,\n",
    "            as_PyntCloud=True)\n",
    "\n",
    "cloud.plot(initial_point_size=0.01)\n",
    "voxelgrid_id = cloud.add_structure(\"voxelgrid\", n_x=n_size, n_y=n_size, n_z=n_size)\n",
    "\n",
    "voxelgrid = cloud.structures[voxelgrid_id]\n",
    "\n",
    "voxelgrid.plot(d=3, mode=n_mode, cmap=n_cmap)"
   ]
  },
  {
   "cell_type": "markdown",
   "metadata": {},
   "source": [
    "![title](objects/Bild2.PNG)"
   ]
  },
  {
   "cell_type": "code",
   "execution_count": 3,
   "metadata": {},
   "outputs": [
    {
     "data": {
      "application/vnd.jupyter.widget-view+json": {
       "model_id": "1d0fc39a00e84c3caae634f9093b231e",
       "version_major": 2,
       "version_minor": 0
      },
      "text/plain": [
       "Renderer(camera=PerspectiveCamera(aspect=1.6, fov=90.0, position=(-1.1416000127792358, 50.96527886390686, 74.1…"
      ]
     },
     "metadata": {},
     "output_type": "display_data"
    },
    {
     "data": {
      "application/vnd.jupyter.widget-view+json": {
       "model_id": "432612aaf0f34403be212c915a57a766",
       "version_major": 2,
       "version_minor": 0
      },
      "text/plain": [
       "HBox(children=(Label(value='Point size:'), FloatSlider(value=0.01, max=0.1, step=0.0001), Label(value='Backgro…"
      ]
     },
     "metadata": {},
     "output_type": "display_data"
    }
   ],
   "source": [
    "if(path1.endswith(\".off\")):\n",
    "    test1 = PyntCloud.from_file(path2)\n",
    "else:\n",
    "    test1_or = od.io.read_triangle_mesh(path2)\n",
    "    test1 = PyntCloud.from_instance(\"open3d\", test1_or)\n",
    "    \n",
    "cloud = test1.get_sample(\n",
    "            \"mesh_random\",\n",
    "            n=100000,\n",
    "            rgb=False,\n",
    "            normals=False,\n",
    "            as_PyntCloud=True)\n",
    "\n",
    "cloud.plot(initial_point_size=0.01)"
   ]
  },
  {
   "cell_type": "markdown",
   "metadata": {},
   "source": [
    "![title](objects/Bild3.PNG)"
   ]
  },
  {
   "cell_type": "code",
   "execution_count": 4,
   "metadata": {},
   "outputs": [
    {
     "data": {
      "application/vnd.jupyter.widget-view+json": {
       "model_id": "9f6a6fbd4b024b25907f0a3e3c3f7245",
       "version_major": 2,
       "version_minor": 0
      },
      "text/plain": [
       "Renderer(camera=PerspectiveCamera(aspect=1.6, fov=90.0, position=(4.825045585632324, 281.4689521789551, 744.40…"
      ]
     },
     "metadata": {},
     "output_type": "display_data"
    },
    {
     "data": {
      "application/vnd.jupyter.widget-view+json": {
       "model_id": "bdea4a47225d4842b3a464eb223ab5b7",
       "version_major": 2,
       "version_minor": 0
      },
      "text/plain": [
       "HBox(children=(Label(value='Point size:'), FloatSlider(value=0.01, max=0.1, step=0.0001), Label(value='Backgro…"
      ]
     },
     "metadata": {},
     "output_type": "display_data"
    }
   ],
   "source": [
    "if(path1.endswith(\".off\")):\n",
    "    test1 = PyntCloud.from_file(path3)\n",
    "else:\n",
    "    test1_or = od.io.read_triangle_mesh(path3)\n",
    "    test1 = PyntCloud.from_instance(\"open3d\", test1_or)\n",
    "cloud = test1.get_sample(\n",
    "            \"mesh_random\",\n",
    "            n=100000,\n",
    "            rgb=False,\n",
    "            normals=False,\n",
    "            as_PyntCloud=True)\n",
    "\n",
    "cloud.plot(initial_point_size=0.01)"
   ]
  },
  {
   "cell_type": "markdown",
   "metadata": {},
   "source": [
    "![title](objects/Bild4.PNG)"
   ]
  },
  {
   "cell_type": "code",
   "execution_count": 5,
   "metadata": {},
   "outputs": [
    {
     "data": {
      "application/vnd.jupyter.widget-view+json": {
       "model_id": "a7b3a5eff0694914ab628b24968acc15",
       "version_major": 2,
       "version_minor": 0
      },
      "text/plain": [
       "Renderer(camera=PerspectiveCamera(aspect=1.6, fov=90.0, position=(15.601263999938965, 46.42401885986328, 54.09…"
      ]
     },
     "metadata": {},
     "output_type": "display_data"
    }
   ],
   "source": [
    "if(path1.endswith(\".off\")):\n",
    "    test1 = PyntCloud.from_file(path4)\n",
    "else:\n",
    "    test1_or = od.io.read_triangle_mesh(path4)\n",
    "    test1 = PyntCloud.from_instance(\"open3d\", test1_or)\n",
    "cloud = test1.get_sample(\n",
    "            \"mesh_random\",\n",
    "            n=100000,\n",
    "            rgb=False,\n",
    "            normals=False,\n",
    "            as_PyntCloud=True)\n",
    "\n",
    "\n",
    "voxelgrid_id = cloud.add_structure(\"voxelgrid\", n_x=n_size, n_y=n_size, n_z=n_size)\n",
    "\n",
    "voxelgrid = cloud.structures[voxelgrid_id]\n",
    "\n",
    "voxelgrid.plot(d=3, mode=n_mode, cmap=n_cmap)"
   ]
  },
  {
   "cell_type": "markdown",
   "metadata": {},
   "source": [
    "![title](objects/Bild5.PNG)"
   ]
  },
  {
   "cell_type": "code",
   "execution_count": 6,
   "metadata": {},
   "outputs": [
    {
     "data": {
      "application/vnd.jupyter.widget-view+json": {
       "model_id": "3b1ce873ca3a40ba82f05c64c46a022e",
       "version_major": 2,
       "version_minor": 0
      },
      "text/plain": [
       "Renderer(camera=PerspectiveCamera(aspect=1.6, fov=90.0, position=(0.02606366202235222, 45.52611494064331, 82.5…"
      ]
     },
     "metadata": {},
     "output_type": "display_data"
    },
    {
     "data": {
      "application/vnd.jupyter.widget-view+json": {
       "model_id": "a0db09281f894acb9d302824059bafdd",
       "version_major": 2,
       "version_minor": 0
      },
      "text/plain": [
       "HBox(children=(Label(value='Point size:'), FloatSlider(value=0.01, max=0.1, step=0.0001), Label(value='Backgro…"
      ]
     },
     "metadata": {},
     "output_type": "display_data"
    }
   ],
   "source": [
    "if(path1.endswith(\".off\")):\n",
    "    test1 = PyntCloud.from_file(path5)\n",
    "else:\n",
    "    test1_or = od.io.read_triangle_mesh(path5)\n",
    "    test1 = PyntCloud.from_instance(\"open3d\", test1_or)\n",
    "cloud = test1.get_sample(\n",
    "            \"mesh_random\",\n",
    "            n=100000,\n",
    "            rgb=False,\n",
    "            normals=False,\n",
    "            as_PyntCloud=True)\n",
    "    \n",
    "cloud.plot(initial_point_size=0.01)\n"
   ]
  },
  {
   "cell_type": "markdown",
   "metadata": {},
   "source": [
    "![title](objects/Bild6.PNG)"
   ]
  },
  {
   "cell_type": "code",
   "execution_count": 7,
   "metadata": {},
   "outputs": [
    {
     "data": {
      "application/vnd.jupyter.widget-view+json": {
       "model_id": "bf34d5ff6bef438995959902b3fc6e4f",
       "version_major": 2,
       "version_minor": 0
      },
      "text/plain": [
       "Renderer(camera=PerspectiveCamera(aspect=1.6, fov=90.0, position=(-13.59878921508789, -3.669506072998047, 17.1…"
      ]
     },
     "metadata": {},
     "output_type": "display_data"
    },
    {
     "data": {
      "application/vnd.jupyter.widget-view+json": {
       "model_id": "6dc8bbe0852d4754999697e1bf9b9e00",
       "version_major": 2,
       "version_minor": 0
      },
      "text/plain": [
       "HBox(children=(Label(value='Point size:'), FloatSlider(value=0.01, max=0.1, step=0.0001), Label(value='Backgro…"
      ]
     },
     "metadata": {},
     "output_type": "display_data"
    }
   ],
   "source": [
    "if(path1.endswith(\".off\")):\n",
    "    test1 = PyntCloud.from_file(path6)\n",
    "else:\n",
    "    test1_or = od.io.read_triangle_mesh(path6)\n",
    "    test1 = PyntCloud.from_instance(\"open3d\", test1_or)\n",
    "cloud = test1.get_sample(\n",
    "            \"mesh_random\",\n",
    "            n=100000,\n",
    "            rgb=False,\n",
    "            normals=False,\n",
    "            as_PyntCloud=True)\n",
    "    \n",
    "cloud.plot(initial_point_size=0.01)"
   ]
  },
  {
   "cell_type": "markdown",
   "metadata": {},
   "source": [
    "![title](objects/Bild7.PNG)"
   ]
  },
  {
   "cell_type": "code",
   "execution_count": 8,
   "metadata": {},
   "outputs": [
    {
     "data": {
      "application/vnd.jupyter.widget-view+json": {
       "model_id": "3271906beabb4bdda1c898145f4ffb88",
       "version_major": 2,
       "version_minor": 0
      },
      "text/plain": [
       "Renderer(camera=PerspectiveCamera(aspect=1.6, fov=90.0, position=(-0.14169394969940186, 42.77901906520128, 5.9…"
      ]
     },
     "metadata": {},
     "output_type": "display_data"
    },
    {
     "data": {
      "application/vnd.jupyter.widget-view+json": {
       "model_id": "94103177afcc42979133ee53eedb63f7",
       "version_major": 2,
       "version_minor": 0
      },
      "text/plain": [
       "HBox(children=(Label(value='Point size:'), FloatSlider(value=0.01, max=0.1, step=0.0001), Label(value='Backgro…"
      ]
     },
     "metadata": {},
     "output_type": "display_data"
    }
   ],
   "source": [
    "if(path1.endswith(\".off\")):\n",
    "    test1 = PyntCloud.from_file(path7)\n",
    "else:\n",
    "    test1_or = od.io.read_triangle_mesh(path7)\n",
    "    test1 = PyntCloud.from_instance(\"open3d\", test1_or)\n",
    "cloud = test1.get_sample(\n",
    "            \"mesh_random\",\n",
    "            n=100000,\n",
    "            rgb=False,\n",
    "            normals=False,\n",
    "            as_PyntCloud=True)\n",
    "    \n",
    "cloud.plot(initial_point_size=0.01)"
   ]
  },
  {
   "cell_type": "markdown",
   "metadata": {},
   "source": [
    "![title](objects/Bild8.PNG)"
   ]
  },
  {
   "cell_type": "code",
   "execution_count": 9,
   "metadata": {},
   "outputs": [
    {
     "data": {
      "application/vnd.jupyter.widget-view+json": {
       "model_id": "414203c3ca184c79b04e0d711268a17c",
       "version_major": 2,
       "version_minor": 0
      },
      "text/plain": [
       "Renderer(camera=PerspectiveCamera(aspect=1.6, fov=90.0, position=(15.500462532043457, 36.504621505737305, 44.0…"
      ]
     },
     "metadata": {},
     "output_type": "display_data"
    }
   ],
   "source": [
    "if(path1.endswith(\".off\")):\n",
    "    test1 = PyntCloud.from_file(path8)\n",
    "else:\n",
    "    test1_or = od.io.read_triangle_mesh(path8)\n",
    "    test1 = PyntCloud.from_instance(\"open3d\", test1_or)\n",
    "cloud = test1.get_sample(\n",
    "            \"mesh_random\",\n",
    "            n=100000,\n",
    "            rgb=False,\n",
    "            normals=False,\n",
    "            as_PyntCloud=True)\n",
    "\n",
    "\n",
    "voxelgrid_id = cloud.add_structure(\"voxelgrid\", n_x=n_size, n_y=n_size, n_z=n_size)\n",
    "\n",
    "voxelgrid = cloud.structures[voxelgrid_id]\n",
    "\n",
    "voxelgrid.plot(d=3, mode=n_mode, cmap=n_cmap)"
   ]
  },
  {
   "cell_type": "markdown",
   "metadata": {},
   "source": [
    "![title](objects/Bildc1.PNG)"
   ]
  },
  {
   "cell_type": "code",
   "execution_count": 10,
   "metadata": {},
   "outputs": [
    {
     "data": {
      "application/vnd.jupyter.widget-view+json": {
       "model_id": "8b46a70709544bb0aec9202e5171bf1a",
       "version_major": 2,
       "version_minor": 0
      },
      "text/plain": [
       "Renderer(camera=PerspectiveCamera(aspect=1.6, fov=90.0, position=(-0.06124492734670639, 18.390321791172028, 38…"
      ]
     },
     "metadata": {},
     "output_type": "display_data"
    },
    {
     "data": {
      "application/vnd.jupyter.widget-view+json": {
       "model_id": "3bec695f3bd74d498fc9392171e4facd",
       "version_major": 2,
       "version_minor": 0
      },
      "text/plain": [
       "HBox(children=(Label(value='Point size:'), FloatSlider(value=0.01, max=0.1, step=0.0001), Label(value='Backgro…"
      ]
     },
     "metadata": {},
     "output_type": "display_data"
    },
    {
     "data": {
      "application/vnd.jupyter.widget-view+json": {
       "model_id": "dfa52d4725894ff1ac8b7008d4add954",
       "version_major": 2,
       "version_minor": 0
      },
      "text/plain": [
       "Renderer(camera=PerspectiveCamera(aspect=1.6, fov=90.0, position=(15.511100769042969, 44.632534980773926, 47.2…"
      ]
     },
     "metadata": {},
     "output_type": "display_data"
    },
    {
     "data": {
      "application/vnd.jupyter.widget-view+json": {
       "model_id": "f1fed26ef0b84cd584048883452498b4",
       "version_major": 2,
       "version_minor": 0
      },
      "text/plain": [
       "Renderer(camera=PerspectiveCamera(aspect=1.6, fov=90.0, position=(31.489831924438477, 90.03504943847656, 96.08…"
      ]
     },
     "metadata": {},
     "output_type": "display_data"
    }
   ],
   "source": [
    "if(path1.endswith(\".off\")):\n",
    "    test1 = PyntCloud.from_file(pathc1)\n",
    "else:\n",
    "    test1_or = od.io.read_triangle_mesh(pathc1)\n",
    "    test1 = PyntCloud.from_instance(\"open3d\", test1_or)\n",
    "    \n",
    "\n",
    "cloud = test1.get_sample(\n",
    "            \"mesh_random\",\n",
    "            n=100000,\n",
    "            rgb=False,\n",
    "            normals=False,\n",
    "            as_PyntCloud=True)\n",
    "cloud.plot(initial_point_size=0.01)\n",
    "\n",
    "voxelgrid_id = cloud.add_structure(\"voxelgrid\", n_x=n_size, n_y=n_size, n_z=n_size)\n",
    "\n",
    "voxelgrid = cloud.structures[voxelgrid_id]\n",
    "\n",
    "voxelgrid.plot(d=3, mode=n_mode, cmap=n_cmap)\n",
    "\n",
    "n_size=64\n",
    "\n",
    "voxelgrid_id = cloud.add_structure(\"voxelgrid\", n_x=n_size, n_y=n_size, n_z=n_size)\n",
    "\n",
    "voxelgrid = cloud.structures[voxelgrid_id]\n",
    "\n",
    "voxelgrid.plot(d=3, mode=n_mode, cmap=n_cmap)"
   ]
  },
  {
   "cell_type": "markdown",
   "metadata": {},
   "source": [
    "![title](objects/Bildc2.PNG)"
   ]
  },
  {
   "cell_type": "code",
   "execution_count": 11,
   "metadata": {
    "scrolled": true
   },
   "outputs": [
    {
     "data": {
      "application/vnd.jupyter.widget-view+json": {
       "model_id": "75c6e82f4ea445bca01c7f18d61a733a",
       "version_major": 2,
       "version_minor": 0
      },
      "text/plain": [
       "Renderer(camera=PerspectiveCamera(aspect=1.6, fov=90.0, position=(141.5414276123047, 89.03158950805664, 46.251…"
      ]
     },
     "metadata": {},
     "output_type": "display_data"
    },
    {
     "data": {
      "application/vnd.jupyter.widget-view+json": {
       "model_id": "511efee8192c455d94825e73e3ec467a",
       "version_major": 2,
       "version_minor": 0
      },
      "text/plain": [
       "HBox(children=(Label(value='Point size:'), FloatSlider(value=0.01, max=0.1, step=0.0001), Label(value='Backgro…"
      ]
     },
     "metadata": {},
     "output_type": "display_data"
    },
    {
     "data": {
      "application/vnd.jupyter.widget-view+json": {
       "model_id": "8111a3b22a9046429c0f8e2d9d30f6db",
       "version_major": 2,
       "version_minor": 0
      },
      "text/plain": [
       "Renderer(camera=PerspectiveCamera(aspect=1.6, fov=90.0, position=(17.830257415771484, 36.53841018676758, 50.95…"
      ]
     },
     "metadata": {},
     "output_type": "display_data"
    },
    {
     "data": {
      "application/vnd.jupyter.widget-view+json": {
       "model_id": "7c2a4324f1504c739848bad15cfa0c0b",
       "version_major": 2,
       "version_minor": 0
      },
      "text/plain": [
       "Renderer(camera=PerspectiveCamera(aspect=1.6, fov=90.0, position=(35.99565887451172, 73.58441162109375, 102.61…"
      ]
     },
     "metadata": {},
     "output_type": "display_data"
    }
   ],
   "source": [
    "if(path1.endswith(\".off\")):\n",
    "    test1 = PyntCloud.from_file(pathc2)\n",
    "else:\n",
    "    test1_or = od.io.read_triangle_mesh(pathc2)\n",
    "    test1 = PyntCloud.from_instance(\"open3d\", test1_or)\n",
    "\n",
    "cloud = test1.get_sample(\n",
    "            \"mesh_random\",\n",
    "            n=100000,\n",
    "            rgb=False,\n",
    "            normals=False,\n",
    "            as_PyntCloud=True)\n",
    "cloud.plot(initial_point_size=0.01)\n",
    "\n",
    "n_size=32\n",
    "\n",
    "voxelgrid_id = cloud.add_structure(\"voxelgrid\", n_x=n_size, n_y=n_size, n_z=n_size)\n",
    "\n",
    "voxelgrid = cloud.structures[voxelgrid_id]\n",
    "\n",
    "voxelgrid.plot(d=3, mode=n_mode, cmap=n_cmap)\n",
    "\n",
    "n_size=64\n",
    "\n",
    "voxelgrid_id = cloud.add_structure(\"voxelgrid\", n_x=n_size, n_y=n_size, n_z=n_size)\n",
    "\n",
    "voxelgrid = cloud.structures[voxelgrid_id]\n",
    "\n",
    "voxelgrid.plot(d=3, mode=n_mode, cmap=n_cmap)"
   ]
  }
 ],
 "metadata": {
  "kernelspec": {
   "display_name": "Python 3",
   "language": "python",
   "name": "python3"
  },
  "language_info": {
   "codemirror_mode": {
    "name": "ipython",
    "version": 3
   },
   "file_extension": ".py",
   "mimetype": "text/x-python",
   "name": "python",
   "nbconvert_exporter": "python",
   "pygments_lexer": "ipython3",
   "version": "3.8.7"
  }
 },
 "nbformat": 4,
 "nbformat_minor": 4
}
