{
 "cells": [
  {
   "cell_type": "markdown",
   "metadata": {},
   "source": [
    "![title](objects/Bild0.PNG)"
   ]
  },
  {
   "cell_type": "code",
   "execution_count": 4,
   "metadata": {},
   "outputs": [
    {
     "data": {
      "application/vnd.jupyter.widget-view+json": {
       "model_id": "347c0049a073411e84a94cd8335ba4a0",
       "version_major": 2,
       "version_minor": 0
      },
      "text/plain": [
       "Renderer(camera=PerspectiveCamera(aspect=1.6, fov=90.0, position=(0.03398222476243973, 18.442165195941925, 38.…"
      ]
     },
     "metadata": {},
     "output_type": "display_data"
    },
    {
     "data": {
      "application/vnd.jupyter.widget-view+json": {
       "model_id": "22e329c76f5e455d8b664afec8385d8f",
       "version_major": 2,
       "version_minor": 0
      },
      "text/plain": [
       "HBox(children=(Label(value='Point size:'), FloatSlider(value=0.01, max=0.1, step=0.0001), Label(value='Backgro…"
      ]
     },
     "metadata": {},
     "output_type": "display_data"
    }
   ],
   "source": [
    "from pyntcloud import PyntCloud\n",
    "import open3d as od\n",
    "\n",
    "pathstart =\"objects/Frosch.stl\"\n",
    "path1 = \"objects/hirsch.stl\"\n",
    "path2 =\"objects/bed.stl\"\n",
    "path3 = \"objects/chair.off\"\n",
    "path4 = \"objects/Panther.stl\"\n",
    "path5 = \"objects/DNA.stl\"\n",
    "path6 = \"objects/bathtub3.off\"\n",
    "path7 = \"objects/Rolltreppe.stl\"\n",
    "path8 = \"objects/dresser.stl\"\n",
    "pathc1 = \"objects/Schnee.stl\"\n",
    "pathc2 = \"objects/Schiff.stl\"\n",
    "n_size=32\n",
    "n_mode=\"density\"\n",
    "n_cmap=\"hsv\"\n",
    "\n",
    "if(path1.endswith(\".off\")):\n",
    "    test1 = PyntCloud.from_file(pathstart)\n",
    "else:\n",
    "    test1_or = od.io.read_triangle_mesh(pathstart)\n",
    "    test1 = PyntCloud.from_instance(\"open3d\", test1_or)\n",
    "cloud = test1.get_sample(\n",
    "            \"mesh_random\",\n",
    "            n=100000,\n",
    "            rgb=False,\n",
    "            normals=False,\n",
    "            as_PyntCloud=True)\n",
    "cloud.plot(initial_point_size=0.01)"
   ]
  },
  {
   "cell_type": "markdown",
   "metadata": {},
   "source": [
    "![title](objects/Bild1.PNG)"
   ]
  },
  {
   "cell_type": "code",
   "execution_count": 5,
   "metadata": {},
   "outputs": [
    {
     "data": {
      "application/vnd.jupyter.widget-view+json": {
       "model_id": "277f04c733704c8898db84c3e55bc2e3",
       "version_major": 2,
       "version_minor": 0
      },
      "text/plain": [
       "Renderer(camera=PerspectiveCamera(aspect=1.6, fov=90.0, position=(-3.8276703357696533, 10.862737655639648, 60.…"
      ]
     },
     "metadata": {},
     "output_type": "display_data"
    },
    {
     "data": {
      "application/vnd.jupyter.widget-view+json": {
       "model_id": "3f4432f6d2ca410e93db4c7d74207df2",
       "version_major": 2,
       "version_minor": 0
      },
      "text/plain": [
       "HBox(children=(Label(value='Point size:'), FloatSlider(value=0.01, max=0.1, step=0.0001), Label(value='Backgro…"
      ]
     },
     "metadata": {},
     "output_type": "display_data"
    }
   ],
   "source": [
    "\n",
    "if(path1.endswith(\".off\")):\n",
    "    test1 = PyntCloud.from_file(path1)\n",
    "else:\n",
    "    test1_or = od.io.read_triangle_mesh(path1)\n",
    "    test1 = PyntCloud.from_instance(\"open3d\", test1_or)\n",
    "\n",
    "cloud = test1.get_sample(\n",
    "            \"mesh_random\",\n",
    "            n=100000,\n",
    "            rgb=False,\n",
    "            normals=False,\n",
    "            as_PyntCloud=True)\n",
    "\n",
    "cloud.plot(initial_point_size=0.01)"
   ]
  },
  {
   "cell_type": "markdown",
   "metadata": {},
   "source": [
    "![title](objects/Bild2.PNG)"
   ]
  },
  {
   "cell_type": "code",
   "execution_count": 6,
   "metadata": {},
   "outputs": [
    {
     "data": {
      "application/vnd.jupyter.widget-view+json": {
       "model_id": "9e5fea96120b4bbf928d750bc4bf3a46",
       "version_major": 2,
       "version_minor": 0
      },
      "text/plain": [
       "Renderer(camera=PerspectiveCamera(aspect=1.6, fov=90.0, position=(87.17652893066406, 1356.8377380371094, 642.5…"
      ]
     },
     "metadata": {},
     "output_type": "display_data"
    },
    {
     "data": {
      "application/vnd.jupyter.widget-view+json": {
       "model_id": "0e2608bb97494e8791abe90a6dbc3f53",
       "version_major": 2,
       "version_minor": 0
      },
      "text/plain": [
       "HBox(children=(Label(value='Point size:'), FloatSlider(value=0.01, max=0.1, step=0.0001), Label(value='Backgro…"
      ]
     },
     "metadata": {},
     "output_type": "display_data"
    }
   ],
   "source": [
    "if(path1.endswith(\".off\")):\n",
    "    test1 = PyntCloud.from_file(path2)\n",
    "else:\n",
    "    test1_or = od.io.read_triangle_mesh(path2)\n",
    "    test1 = PyntCloud.from_instance(\"open3d\", test1_or)\n",
    "    \n",
    "cloud = test1.get_sample(\n",
    "            \"mesh_random\",\n",
    "            n=100000,\n",
    "            rgb=False,\n",
    "            normals=False,\n",
    "            as_PyntCloud=True)\n",
    "\n",
    "cloud.plot(initial_point_size=0.01)"
   ]
  },
  {
   "cell_type": "markdown",
   "metadata": {},
   "source": [
    "![title](objects/Bild3.PNG)"
   ]
  },
  {
   "cell_type": "code",
   "execution_count": 7,
   "metadata": {},
   "outputs": [
    {
     "data": {
      "application/vnd.jupyter.widget-view+json": {
       "model_id": "f0bc1a3cc22c4f3da6f16aaf1963f0d5",
       "version_major": 2,
       "version_minor": 0
      },
      "text/plain": [
       "Renderer(camera=PerspectiveCamera(aspect=1.6, fov=90.0, position=(0.10466860234737396, 20.403400421142578, 23.…"
      ]
     },
     "metadata": {},
     "output_type": "display_data"
    },
    {
     "data": {
      "application/vnd.jupyter.widget-view+json": {
       "model_id": "8f00ba35230a46c9ad3ed3943f023938",
       "version_major": 2,
       "version_minor": 0
      },
      "text/plain": [
       "HBox(children=(Label(value='Point size:'), FloatSlider(value=0.01, max=0.1, step=0.0001), Label(value='Backgro…"
      ]
     },
     "metadata": {},
     "output_type": "display_data"
    }
   ],
   "source": [
    "if(path1.endswith(\".off\")):\n",
    "    test1 = PyntCloud.from_file(path3)\n",
    "else:\n",
    "    test1_or = od.io.read_triangle_mesh(path3)\n",
    "    test1 = PyntCloud.from_instance(\"open3d\", test1_or)\n",
    "cloud = test1.get_sample(\n",
    "            \"mesh_random\",\n",
    "            n=100000,\n",
    "            rgb=False,\n",
    "            normals=False,\n",
    "            as_PyntCloud=True)\n",
    "\n",
    "cloud.plot(initial_point_size=0.01)"
   ]
  },
  {
   "cell_type": "markdown",
   "metadata": {},
   "source": [
    "![title](objects/Bild4.PNG)"
   ]
  },
  {
   "cell_type": "code",
   "execution_count": 8,
   "metadata": {},
   "outputs": [
    {
     "data": {
      "application/vnd.jupyter.widget-view+json": {
       "model_id": "06b9bc04ab11482fb11f7e192a74c2d2",
       "version_major": 2,
       "version_minor": 0
      },
      "text/plain": [
       "Renderer(camera=PerspectiveCamera(aspect=1.6, fov=90.0, position=(15.083620071411133, 45.215352058410645, 47.5…"
      ]
     },
     "metadata": {},
     "output_type": "display_data"
    }
   ],
   "source": [
    "if(path1.endswith(\".off\")):\n",
    "    test1 = PyntCloud.from_file(path4)\n",
    "else:\n",
    "    test1_or = od.io.read_triangle_mesh(path4)\n",
    "    test1 = PyntCloud.from_instance(\"open3d\", test1_or)\n",
    "cloud = test1.get_sample(\n",
    "            \"mesh_random\",\n",
    "            n=100000,\n",
    "            rgb=False,\n",
    "            normals=False,\n",
    "            as_PyntCloud=True)\n",
    "\n",
    "\n",
    "voxelgrid_id = cloud.add_structure(\"voxelgrid\", n_x=n_size, n_y=n_size, n_z=n_size)\n",
    "\n",
    "voxelgrid = cloud.structures[voxelgrid_id]\n",
    "\n",
    "voxelgrid.plot(d=3, mode=n_mode, cmap=n_cmap)"
   ]
  },
  {
   "cell_type": "markdown",
   "metadata": {},
   "source": [
    "![title](objects/Bild5.PNG)"
   ]
  },
  {
   "cell_type": "code",
   "execution_count": 9,
   "metadata": {},
   "outputs": [
    {
     "data": {
      "application/vnd.jupyter.widget-view+json": {
       "model_id": "c79fc77e7ad34e1eb1c4133f9740d141",
       "version_major": 2,
       "version_minor": 0
      },
      "text/plain": [
       "Renderer(camera=PerspectiveCamera(aspect=1.6, fov=90.0, position=(-0.09079372137784958, 5.24322796985507, 91.9…"
      ]
     },
     "metadata": {},
     "output_type": "display_data"
    },
    {
     "data": {
      "application/vnd.jupyter.widget-view+json": {
       "model_id": "9e3198041c0f47168d03ddbb75416129",
       "version_major": 2,
       "version_minor": 0
      },
      "text/plain": [
       "HBox(children=(Label(value='Point size:'), FloatSlider(value=0.01, max=0.1, step=0.0001), Label(value='Backgro…"
      ]
     },
     "metadata": {},
     "output_type": "display_data"
    }
   ],
   "source": [
    "if(path1.endswith(\".off\")):\n",
    "    test1 = PyntCloud.from_file(path5)\n",
    "else:\n",
    "    test1_or = od.io.read_triangle_mesh(path5)\n",
    "    test1 = PyntCloud.from_instance(\"open3d\", test1_or)\n",
    "cloud = test1.get_sample(\n",
    "            \"mesh_random\",\n",
    "            n=100000,\n",
    "            rgb=False,\n",
    "            normals=False,\n",
    "            as_PyntCloud=True)\n",
    "    \n",
    "cloud.plot(initial_point_size=0.01)\n"
   ]
  },
  {
   "cell_type": "markdown",
   "metadata": {},
   "source": [
    "![title](objects/Bild6.PNG)"
   ]
  },
  {
   "cell_type": "code",
   "execution_count": 10,
   "metadata": {},
   "outputs": [
    {
     "data": {
      "application/vnd.jupyter.widget-view+json": {
       "model_id": "7a9ad45bf4a34996a6d062405051ea77",
       "version_major": 2,
       "version_minor": 0
      },
      "text/plain": [
       "Renderer(camera=PerspectiveCamera(aspect=1.6, fov=90.0, position=(0.08670487999916077, 9.874597802758217, 3.12…"
      ]
     },
     "metadata": {},
     "output_type": "display_data"
    },
    {
     "data": {
      "application/vnd.jupyter.widget-view+json": {
       "model_id": "88d4c04a7e6a4d84bcf429ee26e4707a",
       "version_major": 2,
       "version_minor": 0
      },
      "text/plain": [
       "HBox(children=(Label(value='Point size:'), FloatSlider(value=0.01, max=0.1, step=0.0001), Label(value='Backgro…"
      ]
     },
     "metadata": {},
     "output_type": "display_data"
    }
   ],
   "source": [
    "if(path1.endswith(\".off\")):\n",
    "    test1 = PyntCloud.from_file(path6)\n",
    "else:\n",
    "    test1_or = od.io.read_triangle_mesh(path6)\n",
    "    test1 = PyntCloud.from_instance(\"open3d\", test1_or)\n",
    "cloud = test1.get_sample(\n",
    "            \"mesh_random\",\n",
    "            n=100000,\n",
    "            rgb=False,\n",
    "            normals=False,\n",
    "            as_PyntCloud=True)\n",
    "    \n",
    "cloud.plot(initial_point_size=0.01)"
   ]
  },
  {
   "cell_type": "markdown",
   "metadata": {},
   "source": [
    "![title](objects/Bild7.PNG)"
   ]
  },
  {
   "cell_type": "code",
   "execution_count": 11,
   "metadata": {},
   "outputs": [
    {
     "data": {
      "application/vnd.jupyter.widget-view+json": {
       "model_id": "deff7ec697ec4f77813ec5bcf897aa2c",
       "version_major": 2,
       "version_minor": 0
      },
      "text/plain": [
       "Renderer(camera=PerspectiveCamera(aspect=1.6, fov=90.0, position=(141.73681640625, 89.07294464111328, 46.44174…"
      ]
     },
     "metadata": {},
     "output_type": "display_data"
    },
    {
     "data": {
      "application/vnd.jupyter.widget-view+json": {
       "model_id": "d6c35f39712d4f6692ebcf908500837e",
       "version_major": 2,
       "version_minor": 0
      },
      "text/plain": [
       "HBox(children=(Label(value='Point size:'), FloatSlider(value=0.01, max=0.1, step=0.0001), Label(value='Backgro…"
      ]
     },
     "metadata": {},
     "output_type": "display_data"
    }
   ],
   "source": [
    "if(path1.endswith(\".off\")):\n",
    "    test1 = PyntCloud.from_file(path7)\n",
    "else:\n",
    "    test1_or = od.io.read_triangle_mesh(path7)\n",
    "    test1 = PyntCloud.from_instance(\"open3d\", test1_or)\n",
    "cloud = test1.get_sample(\n",
    "            \"mesh_random\",\n",
    "            n=100000,\n",
    "            rgb=False,\n",
    "            normals=False,\n",
    "            as_PyntCloud=True)\n",
    "    \n",
    "cloud.plot(initial_point_size=0.01)"
   ]
  },
  {
   "cell_type": "markdown",
   "metadata": {},
   "source": [
    "![title](objects/Bild8.PNG)"
   ]
  },
  {
   "cell_type": "code",
   "execution_count": 12,
   "metadata": {},
   "outputs": [
    {
     "data": {
      "application/vnd.jupyter.widget-view+json": {
       "model_id": "8a83c44181aa4c559620d04e3a454d4e",
       "version_major": 2,
       "version_minor": 0
      },
      "text/plain": [
       "Renderer(camera=PerspectiveCamera(aspect=1.6, fov=90.0, position=(15.059334754943848, 46.50246047973633, 59.15…"
      ]
     },
     "metadata": {},
     "output_type": "display_data"
    }
   ],
   "source": [
    "if(path1.endswith(\".off\")):\n",
    "    test1 = PyntCloud.from_file(path8)\n",
    "else:\n",
    "    test1_or = od.io.read_triangle_mesh(path8)\n",
    "    test1 = PyntCloud.from_instance(\"open3d\", test1_or)\n",
    "cloud = test1.get_sample(\n",
    "            \"mesh_random\",\n",
    "            n=100000,\n",
    "            rgb=False,\n",
    "            normals=False,\n",
    "            as_PyntCloud=True)\n",
    "\n",
    "\n",
    "voxelgrid_id = cloud.add_structure(\"voxelgrid\", n_x=n_size, n_y=n_size, n_z=n_size)\n",
    "\n",
    "voxelgrid = cloud.structures[voxelgrid_id]\n",
    "\n",
    "voxelgrid.plot(d=3, mode=n_mode, cmap=n_cmap)"
   ]
  },
  {
   "cell_type": "markdown",
   "metadata": {},
   "source": [
    "![title](objects/Bildc1.PNG)"
   ]
  },
  {
   "cell_type": "code",
   "execution_count": 13,
   "metadata": {},
   "outputs": [
    {
     "data": {
      "application/vnd.jupyter.widget-view+json": {
       "model_id": "198437bf03d34125b274caca045ba8f1",
       "version_major": 2,
       "version_minor": 0
      },
      "text/plain": [
       "Renderer(camera=PerspectiveCamera(aspect=1.6, fov=90.0, position=(-0.1411169022321701, 42.86939124763012, 5.99…"
      ]
     },
     "metadata": {},
     "output_type": "display_data"
    },
    {
     "data": {
      "application/vnd.jupyter.widget-view+json": {
       "model_id": "9af813c84b5944d3849ce7aee4d09aef",
       "version_major": 2,
       "version_minor": 0
      },
      "text/plain": [
       "HBox(children=(Label(value='Point size:'), FloatSlider(value=0.01, max=0.1, step=0.0001), Label(value='Backgro…"
      ]
     },
     "metadata": {},
     "output_type": "display_data"
    },
    {
     "data": {
      "application/vnd.jupyter.widget-view+json": {
       "model_id": "a01fdf750e5b4d3a847f4f9f53df22d3",
       "version_major": 2,
       "version_minor": 0
      },
      "text/plain": [
       "Renderer(camera=PerspectiveCamera(aspect=1.6, fov=90.0, position=(15.50733757019043, 46.54297733306885, 39.5),…"
      ]
     },
     "metadata": {},
     "output_type": "display_data"
    },
    {
     "data": {
      "application/vnd.jupyter.widget-view+json": {
       "model_id": "374c025266a8464e801e74b4e5029d39",
       "version_major": 2,
       "version_minor": 0
      },
      "text/plain": [
       "Renderer(camera=PerspectiveCamera(aspect=1.6, fov=90.0, position=(31.38865089416504, 94.65023231506348, 81.001…"
      ]
     },
     "metadata": {},
     "output_type": "display_data"
    }
   ],
   "source": [
    "if(path1.endswith(\".off\")):\n",
    "    test1 = PyntCloud.from_file(pathc1)\n",
    "else:\n",
    "    test1_or = od.io.read_triangle_mesh(pathc1)\n",
    "    test1 = PyntCloud.from_instance(\"open3d\", test1_or)\n",
    "    \n",
    "\n",
    "cloud = test1.get_sample(\n",
    "            \"mesh_random\",\n",
    "            n=100000,\n",
    "            rgb=False,\n",
    "            normals=False,\n",
    "            as_PyntCloud=True)\n",
    "cloud.plot(initial_point_size=0.01)\n",
    "\n",
    "voxelgrid_id = cloud.add_structure(\"voxelgrid\", n_x=n_size, n_y=n_size, n_z=n_size)\n",
    "\n",
    "voxelgrid = cloud.structures[voxelgrid_id]\n",
    "\n",
    "voxelgrid.plot(d=3, mode=n_mode, cmap=n_cmap)\n",
    "\n",
    "n_size=64\n",
    "\n",
    "voxelgrid_id = cloud.add_structure(\"voxelgrid\", n_x=n_size, n_y=n_size, n_z=n_size)\n",
    "\n",
    "voxelgrid = cloud.structures[voxelgrid_id]\n",
    "\n",
    "voxelgrid.plot(d=3, mode=n_mode, cmap=n_cmap)"
   ]
  },
  {
   "cell_type": "markdown",
   "metadata": {},
   "source": [
    "![title](objects/Bildc2.PNG)"
   ]
  },
  {
   "cell_type": "code",
   "execution_count": 14,
   "metadata": {},
   "outputs": [
    {
     "data": {
      "application/vnd.jupyter.widget-view+json": {
       "model_id": "10e1e257e0dc42c3b729aec885df1441",
       "version_major": 2,
       "version_minor": 0
      },
      "text/plain": [
       "Renderer(camera=PerspectiveCamera(aspect=1.6, fov=90.0, position=(0.4629710614681244, 6.306228852830827, 36.36…"
      ]
     },
     "metadata": {},
     "output_type": "display_data"
    },
    {
     "data": {
      "application/vnd.jupyter.widget-view+json": {
       "model_id": "7360d390f79442bf8263f3727ab1ab00",
       "version_major": 2,
       "version_minor": 0
      },
      "text/plain": [
       "HBox(children=(Label(value='Point size:'), FloatSlider(value=0.01, max=0.1, step=0.0001), Label(value='Backgro…"
      ]
     },
     "metadata": {},
     "output_type": "display_data"
    },
    {
     "data": {
      "application/vnd.jupyter.widget-view+json": {
       "model_id": "f4a6f507e9594d239a2245efc5b21236",
       "version_major": 2,
       "version_minor": 0
      },
      "text/plain": [
       "Renderer(camera=PerspectiveCamera(aspect=1.6, fov=90.0, position=(15.358139991760254, 33.5, 42.02093029022217)…"
      ]
     },
     "metadata": {},
     "output_type": "display_data"
    },
    {
     "data": {
      "application/vnd.jupyter.widget-view+json": {
       "model_id": "a3e55be6d8894dd78ebc3e66a038151e",
       "version_major": 2,
       "version_minor": 0
      },
      "text/plain": [
       "Renderer(camera=PerspectiveCamera(aspect=1.6, fov=90.0, position=(31.267724990844727, 67.49404335021973, 85.81…"
      ]
     },
     "metadata": {},
     "output_type": "display_data"
    }
   ],
   "source": [
    "if(path1.endswith(\".off\")):\n",
    "    test1 = PyntCloud.from_file(pathc2)\n",
    "else:\n",
    "    test1_or = od.io.read_triangle_mesh(pathc2)\n",
    "    test1 = PyntCloud.from_instance(\"open3d\", test1_or)\n",
    "\n",
    "cloud = test1.get_sample(\n",
    "            \"mesh_random\",\n",
    "            n=100000,\n",
    "            rgb=False,\n",
    "            normals=False,\n",
    "            as_PyntCloud=True)\n",
    "cloud.plot(initial_point_size=0.01)\n",
    "\n",
    "n_size=32\n",
    "\n",
    "voxelgrid_id = cloud.add_structure(\"voxelgrid\", n_x=n_size, n_y=n_size, n_z=n_size)\n",
    "\n",
    "voxelgrid = cloud.structures[voxelgrid_id]\n",
    "\n",
    "voxelgrid.plot(d=3, mode=n_mode, cmap=n_cmap)\n",
    "\n",
    "n_size=64\n",
    "\n",
    "voxelgrid_id = cloud.add_structure(\"voxelgrid\", n_x=n_size, n_y=n_size, n_z=n_size)\n",
    "\n",
    "voxelgrid = cloud.structures[voxelgrid_id]\n",
    "\n",
    "voxelgrid.plot(d=3, mode=n_mode, cmap=n_cmap)"
   ]
  }
 ],
 "metadata": {
  "kernelspec": {
   "display_name": "Python 3",
   "language": "python",
   "name": "python3"
  },
  "language_info": {
   "codemirror_mode": {
    "name": "ipython",
    "version": 3
   },
   "file_extension": ".py",
   "mimetype": "text/x-python",
   "name": "python",
   "nbconvert_exporter": "python",
   "pygments_lexer": "ipython3",
   "version": "3.8.7"
  }
 },
 "nbformat": 4,
 "nbformat_minor": 4
}
