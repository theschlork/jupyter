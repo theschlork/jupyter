{
 "cells": [
  {
   "cell_type": "markdown",
   "metadata": {},
   "source": [
    "![title](objects/Bild0.PNG)"
   ]
  },
  {
   "cell_type": "code",
   "execution_count": 59,
   "metadata": {},
   "outputs": [
    {
     "data": {
      "application/vnd.jupyter.widget-view+json": {
       "model_id": "b0457ed271004118be6b5491a786294e",
       "version_major": 2,
       "version_minor": 0
      },
      "text/plain": [
       "Renderer(camera=PerspectiveCamera(aspect=1.6, fov=90.0, position=(0.015566966496407986, 9.286206216551363, 53.…"
      ]
     },
     "metadata": {},
     "output_type": "display_data"
    },
    {
     "data": {
      "application/vnd.jupyter.widget-view+json": {
       "model_id": "83505eacefdd4ed2a315646371a01f07",
       "version_major": 2,
       "version_minor": 0
      },
      "text/plain": [
       "HBox(children=(Label(value='Point size:'), FloatSlider(value=0.01, max=0.1, step=0.0001), Label(value='Backgro…"
      ]
     },
     "metadata": {},
     "output_type": "display_data"
    }
   ],
   "source": [
    "from pyntcloud import PyntCloud\n",
    "import open3d as od\n",
    "\n",
    "path =\"objects\\Brigdging.stl\"\n",
    "n_size=32\n",
    "n_mode=\"density\"\n",
    "n_cmap=\"hsv\"\n",
    "\n",
    "test1_or = od.io.read_triangle_mesh(path)\n",
    "test1 = PyntCloud.from_instance(\"open3d\", test1_or)\n",
    "cloud = test1.get_sample(\n",
    "            \"mesh_random\",\n",
    "            n=100000,\n",
    "            rgb=False,\n",
    "            normals=False,\n",
    "            as_PyntCloud=True)\n",
    "cloud.plot(initial_point_size=0.01)"
   ]
  },
  {
   "cell_type": "markdown",
   "metadata": {},
   "source": [
    "![title](objects/Bild8_Kommode.PNG)"
   ]
  },
  {
   "cell_type": "code",
   "execution_count": 60,
   "metadata": {},
   "outputs": [
    {
     "data": {
      "application/vnd.jupyter.widget-view+json": {
       "model_id": "68929a8600184268b7b07ffe4bcb067d",
       "version_major": 2,
       "version_minor": 0
      },
      "text/plain": [
       "Renderer(camera=PerspectiveCamera(aspect=1.6, fov=90.0, position=(1.9548994302749634, 22.872870355844498, 23.4…"
      ]
     },
     "metadata": {},
     "output_type": "display_data"
    },
    {
     "data": {
      "application/vnd.jupyter.widget-view+json": {
       "model_id": "ee55eca641844baba52a181691893c90",
       "version_major": 2,
       "version_minor": 0
      },
      "text/plain": [
       "HBox(children=(Label(value='Point size:'), FloatSlider(value=0.01, max=0.1, step=0.0001), Label(value='Backgro…"
      ]
     },
     "metadata": {},
     "output_type": "display_data"
    }
   ],
   "source": [
    "path =\"objects\\dresser.off\"\n",
    "\n",
    "test1 = PyntCloud.from_file(path)\n",
    "\n",
    "cloud = test1.get_sample(\n",
    "            \"mesh_random\",\n",
    "            n=100000,\n",
    "            rgb=False,\n",
    "            normals=False,\n",
    "            as_PyntCloud=True)\n",
    "\n",
    "cloud.plot(initial_point_size=0.01)"
   ]
  },
  {
   "cell_type": "markdown",
   "metadata": {},
   "source": [
    "![title](objects/Bild6_Klo.PNG)"
   ]
  },
  {
   "cell_type": "code",
   "execution_count": 61,
   "metadata": {},
   "outputs": [
    {
     "data": {
      "application/vnd.jupyter.widget-view+json": {
       "model_id": "5c40db9232584b2999dd5c4d008e0ec7",
       "version_major": 2,
       "version_minor": 0
      },
      "text/plain": [
       "Renderer(camera=PerspectiveCamera(aspect=1.6, fov=90.0, position=(0.2256144881248474, 45.57331562042236, 82.55…"
      ]
     },
     "metadata": {},
     "output_type": "display_data"
    },
    {
     "data": {
      "application/vnd.jupyter.widget-view+json": {
       "model_id": "2d737455d6a141c9bb5c38fa2a051e0e",
       "version_major": 2,
       "version_minor": 0
      },
      "text/plain": [
       "HBox(children=(Label(value='Point size:'), FloatSlider(value=0.01, max=0.1, step=0.0001), Label(value='Backgro…"
      ]
     },
     "metadata": {},
     "output_type": "display_data"
    }
   ],
   "source": [
    "path =\"objects/toilet.off\"\n",
    "\n",
    "\n",
    "test1 = PyntCloud.from_file(path)\n",
    "    \n",
    "\n",
    "cloud = test1.get_sample(\n",
    "            \"mesh_random\",\n",
    "            n=100000,\n",
    "            rgb=False,\n",
    "            normals=False,\n",
    "            as_PyntCloud=True)\n",
    "\n",
    "cloud.plot(initial_point_size=0.01)"
   ]
  },
  {
   "cell_type": "markdown",
   "metadata": {},
   "source": [
    "![title](objects/Bild4_Schraube.PNG)"
   ]
  },
  {
   "cell_type": "code",
   "execution_count": 62,
   "metadata": {},
   "outputs": [
    {
     "data": {
      "application/vnd.jupyter.widget-view+json": {
       "model_id": "ad54cfc9880c4982b6749b7dcf63e43b",
       "version_major": 2,
       "version_minor": 0
      },
      "text/plain": [
       "Renderer(camera=PerspectiveCamera(aspect=1.6, fov=90.0, position=(0.030634351074695587, -4.9466094970703125, 1…"
      ]
     },
     "metadata": {},
     "output_type": "display_data"
    },
    {
     "data": {
      "application/vnd.jupyter.widget-view+json": {
       "model_id": "2e8040d2d3a14eb5b5ced67ff47eaa59",
       "version_major": 2,
       "version_minor": 0
      },
      "text/plain": [
       "HBox(children=(Label(value='Point size:'), FloatSlider(value=0.01, max=0.1, step=0.0001), Label(value='Backgro…"
      ]
     },
     "metadata": {},
     "output_type": "display_data"
    }
   ],
   "source": [
    "path =\"objects/Bild4_highTower.stl\"\n",
    "\n",
    "test1_or = od.io.read_triangle_mesh(path)\n",
    "test1 = PyntCloud.from_instance(\"open3d\", test1_or)\n",
    "cloud = test1.get_sample(\n",
    "            \"mesh_random\",\n",
    "            n=100000,\n",
    "            rgb=False,\n",
    "            normals=False,\n",
    "            as_PyntCloud=True)\n",
    "\n",
    "cloud.plot(initial_point_size=0.01)"
   ]
  },
  {
   "cell_type": "markdown",
   "metadata": {},
   "source": [
    "![title](objects/Bild7_Badewanne.PNG)"
   ]
  },
  {
   "cell_type": "code",
   "execution_count": 63,
   "metadata": {},
   "outputs": [
    {
     "data": {
      "application/vnd.jupyter.widget-view+json": {
       "model_id": "7e3bedef2f1a40c89c3f037e45e433bb",
       "version_major": 2,
       "version_minor": 0
      },
      "text/plain": [
       "Renderer(camera=PerspectiveCamera(aspect=1.6, fov=90.0, position=(15.591593742370605, 46.40140151977539, 46.34…"
      ]
     },
     "metadata": {},
     "output_type": "display_data"
    }
   ],
   "source": [
    "path =\"objects/bathtub.off\"\n",
    "\n",
    "\n",
    "test1 = PyntCloud.from_file(path)\n",
    "cloud = test1.get_sample(\n",
    "            \"mesh_random\",\n",
    "            n=100000,\n",
    "            rgb=False,\n",
    "            normals=False,\n",
    "            as_PyntCloud=True)\n",
    "\n",
    "\n",
    "voxelgrid_id = cloud.add_structure(\"voxelgrid\", n_x=n_size, n_y=n_size, n_z=n_size)\n",
    "\n",
    "voxelgrid = cloud.structures[voxelgrid_id]\n",
    "\n",
    "voxelgrid.plot(d=3, mode=n_mode, cmap=n_cmap)"
   ]
  },
  {
   "cell_type": "markdown",
   "metadata": {},
   "source": [
    "![title](objects/Bild10_stuhl.PNG)"
   ]
  },
  {
   "cell_type": "code",
   "execution_count": 64,
   "metadata": {},
   "outputs": [
    {
     "data": {
      "application/vnd.jupyter.widget-view+json": {
       "model_id": "91b09857b4ab4e228eae8c8dcdfb6f1d",
       "version_major": 2,
       "version_minor": 0
      },
      "text/plain": [
       "Renderer(camera=PerspectiveCamera(aspect=1.6, fov=90.0, position=(0.07005622237920761, 20.3703396320343, 23.89…"
      ]
     },
     "metadata": {},
     "output_type": "display_data"
    },
    {
     "data": {
      "application/vnd.jupyter.widget-view+json": {
       "model_id": "6822d756d932494c906e6047de045871",
       "version_major": 2,
       "version_minor": 0
      },
      "text/plain": [
       "HBox(children=(Label(value='Point size:'), FloatSlider(value=0.01, max=0.1, step=0.0001), Label(value='Backgro…"
      ]
     },
     "metadata": {},
     "output_type": "display_data"
    }
   ],
   "source": [
    "path =\"objects/chair.off\"\n",
    "\n",
    "\n",
    "test1 = PyntCloud.from_file(path)\n",
    "    \n",
    "cloud = test1.get_sample(\n",
    "            \"mesh_random\",\n",
    "            n=100000,\n",
    "            rgb=False,\n",
    "            normals=False,\n",
    "            as_PyntCloud=True)\n",
    "    \n",
    "cloud.plot(initial_point_size=0.01)\n"
   ]
  },
  {
   "cell_type": "markdown",
   "metadata": {},
   "source": [
    "![title](objects/Bild3_Panther.PNG)"
   ]
  },
  {
   "cell_type": "code",
   "execution_count": 65,
   "metadata": {},
   "outputs": [
    {
     "data": {
      "application/vnd.jupyter.widget-view+json": {
       "model_id": "2c17ef6818094817bf0e9420f50ec13d",
       "version_major": 2,
       "version_minor": 0
      },
      "text/plain": [
       "Renderer(camera=PerspectiveCamera(aspect=1.6, fov=90.0, position=(-1.1097066402435303, 51.05586624145508, 74.1…"
      ]
     },
     "metadata": {},
     "output_type": "display_data"
    },
    {
     "data": {
      "application/vnd.jupyter.widget-view+json": {
       "model_id": "b676c8bc590e4b89bc262bc0ca8f2547",
       "version_major": 2,
       "version_minor": 0
      },
      "text/plain": [
       "HBox(children=(Label(value='Point size:'), FloatSlider(value=0.01, max=0.1, step=0.0001), Label(value='Backgro…"
      ]
     },
     "metadata": {},
     "output_type": "display_data"
    }
   ],
   "source": [
    "path =\"objects/Bild3_Panther.stl\"\n",
    "\n",
    "\n",
    "test1_or = od.io.read_triangle_mesh(path)\n",
    "test1 = PyntCloud.from_instance(\"open3d\", test1_or)\n",
    "    \n",
    "cloud = test1.get_sample(\n",
    "            \"mesh_random\",\n",
    "            n=100000,\n",
    "            rgb=False,\n",
    "            normals=False,\n",
    "            as_PyntCloud=True)\n",
    "    \n",
    "cloud.plot(initial_point_size=0.01)"
   ]
  },
  {
   "cell_type": "markdown",
   "metadata": {},
   "source": [
    "![title](objects/Bild9_Badewanne2.PNG)"
   ]
  },
  {
   "cell_type": "code",
   "execution_count": 66,
   "metadata": {},
   "outputs": [
    {
     "data": {
      "application/vnd.jupyter.widget-view+json": {
       "model_id": "ecf2c10e7d534adf8b1183fb3e8bdb2f",
       "version_major": 2,
       "version_minor": 0
      },
      "text/plain": [
       "Renderer(camera=PerspectiveCamera(aspect=1.6, fov=90.0, position=(-0.11988403648138046, 38.72111988067627, 24.…"
      ]
     },
     "metadata": {},
     "output_type": "display_data"
    },
    {
     "data": {
      "application/vnd.jupyter.widget-view+json": {
       "model_id": "82e85d2ed60045ee97bce837bc08267d",
       "version_major": 2,
       "version_minor": 0
      },
      "text/plain": [
       "HBox(children=(Label(value='Point size:'), FloatSlider(value=0.01, max=0.1, step=0.0001), Label(value='Backgro…"
      ]
     },
     "metadata": {},
     "output_type": "display_data"
    }
   ],
   "source": [
    "path =\"objects/bathtub2.off\"\n",
    "\n",
    "\n",
    "test1 = PyntCloud.from_file(path)\n",
    "    \n",
    "cloud = test1.get_sample(\n",
    "            \"mesh_random\",\n",
    "            n=100000,\n",
    "            rgb=False,\n",
    "            normals=False,\n",
    "            as_PyntCloud=True)\n",
    "    \n",
    "cloud.plot(initial_point_size=0.01)"
   ]
  },
  {
   "cell_type": "markdown",
   "metadata": {},
   "source": [
    "![title](objects/Bild11_stuhl2.PNG)"
   ]
  },
  {
   "cell_type": "code",
   "execution_count": 67,
   "metadata": {},
   "outputs": [
    {
     "data": {
      "application/vnd.jupyter.widget-view+json": {
       "model_id": "88ff4cad83054adaa9b02acfe0a87a98",
       "version_major": 2,
       "version_minor": 0
      },
      "text/plain": [
       "Renderer(camera=PerspectiveCamera(aspect=1.6, fov=90.0, position=(15.402952194213867, 40.29372787475586, 63.79…"
      ]
     },
     "metadata": {},
     "output_type": "display_data"
    }
   ],
   "source": [
    "path =\"objects/chair2.off\"\n",
    "\n",
    "\n",
    "test1 = PyntCloud.from_file(path)\n",
    "cloud = test1.get_sample(\n",
    "            \"mesh_random\",\n",
    "            n=100000,\n",
    "            rgb=False,\n",
    "            normals=False,\n",
    "            as_PyntCloud=True)\n",
    "\n",
    "\n",
    "voxelgrid_id = cloud.add_structure(\"voxelgrid\", n_x=n_size, n_y=n_size, n_z=n_size)\n",
    "\n",
    "voxelgrid = cloud.structures[voxelgrid_id]\n",
    "\n",
    "voxelgrid.plot(d=3, mode=n_mode, cmap=n_cmap)"
   ]
  },
  {
   "cell_type": "markdown",
   "metadata": {},
   "source": [
    "![title](objects/Bild5_Monitor.PNG)"
   ]
  },
  {
   "cell_type": "code",
   "execution_count": 68,
   "metadata": {},
   "outputs": [
    {
     "data": {
      "application/vnd.jupyter.widget-view+json": {
       "model_id": "c7c934ce47f142c1acdaa488414b7678",
       "version_major": 2,
       "version_minor": 0
      },
      "text/plain": [
       "Renderer(camera=PerspectiveCamera(aspect=1.6, fov=90.0, position=(0.047616202384233475, 8.993520066142082, 10.…"
      ]
     },
     "metadata": {},
     "output_type": "display_data"
    },
    {
     "data": {
      "application/vnd.jupyter.widget-view+json": {
       "model_id": "bd1f885cfedf43cead3c89b179e4d9bd",
       "version_major": 2,
       "version_minor": 0
      },
      "text/plain": [
       "HBox(children=(Label(value='Point size:'), FloatSlider(value=0.01, max=0.1, step=0.0001), Label(value='Backgro…"
      ]
     },
     "metadata": {},
     "output_type": "display_data"
    }
   ],
   "source": [
    "path =\"objects/monitor.off\"\n",
    "\n",
    "\n",
    "test1 = PyntCloud.from_file(path)\n",
    "    \n",
    "cloud = test1.get_sample(\n",
    "            \"mesh_random\",\n",
    "            n=100000,\n",
    "            rgb=False,\n",
    "            normals=False,\n",
    "            as_PyntCloud=True)\n",
    "    \n",
    "cloud.plot(initial_point_size=0.01)"
   ]
  },
  {
   "cell_type": "markdown",
   "metadata": {},
   "source": [
    "![title](objects/Bild2_Lego.PNG)"
   ]
  },
  {
   "cell_type": "code",
   "execution_count": 69,
   "metadata": {},
   "outputs": [
    {
     "data": {
      "application/vnd.jupyter.widget-view+json": {
       "model_id": "1366306adcc4462181c04bf64b010594",
       "version_major": 2,
       "version_minor": 0
      },
      "text/plain": [
       "Renderer(camera=PerspectiveCamera(aspect=1.6, fov=90.0, position=(-0.186155766248703, 7.653016626834869, 22.83…"
      ]
     },
     "metadata": {},
     "output_type": "display_data"
    },
    {
     "data": {
      "application/vnd.jupyter.widget-view+json": {
       "model_id": "28f9be7ec3f0471eaf3733b5172a8911",
       "version_major": 2,
       "version_minor": 0
      },
      "text/plain": [
       "HBox(children=(Label(value='Point size:'), FloatSlider(value=0.01, max=0.1, step=0.0001), Label(value='Backgro…"
      ]
     },
     "metadata": {},
     "output_type": "display_data"
    },
    {
     "data": {
      "application/vnd.jupyter.widget-view+json": {
       "model_id": "6c517f6ad59e48fc8be7aec7bfc5b727",
       "version_major": 2,
       "version_minor": 0
      },
      "text/plain": [
       "Renderer(camera=PerspectiveCamera(aspect=1.6, fov=90.0, position=(15.510854721069336, 36.50115489959717, 44.07…"
      ]
     },
     "metadata": {},
     "output_type": "display_data"
    },
    {
     "data": {
      "application/vnd.jupyter.widget-view+json": {
       "model_id": "0841c17da8874700b15550945089b56b",
       "version_major": 2,
       "version_minor": 0
      },
      "text/plain": [
       "Renderer(camera=PerspectiveCamera(aspect=1.6, fov=90.0, position=(31.490694046020508, 73.26981735229492, 89.99…"
      ]
     },
     "metadata": {},
     "output_type": "display_data"
    }
   ],
   "source": [
    "path =\"objects/Bild2_indents-outdents.stl\"\n",
    "\n",
    "\n",
    "test1_or = od.io.read_triangle_mesh(path)\n",
    "test1 = PyntCloud.from_instance(\"open3d\", test1_or)\n",
    "\n",
    "    \n",
    "\n",
    "cloud = test1.get_sample(\n",
    "            \"mesh_random\",\n",
    "            n=100000,\n",
    "            rgb=False,\n",
    "            normals=False,\n",
    "            as_PyntCloud=True)\n",
    "cloud.plot(initial_point_size=0.01)\n",
    "\n",
    "voxelgrid_id = cloud.add_structure(\"voxelgrid\", n_x=n_size, n_y=n_size, n_z=n_size)\n",
    "\n",
    "voxelgrid = cloud.structures[voxelgrid_id]\n",
    "\n",
    "voxelgrid.plot(d=3, mode=n_mode, cmap=n_cmap)\n",
    "\n",
    "n_size=64\n",
    "\n",
    "voxelgrid_id = cloud.add_structure(\"voxelgrid\", n_x=n_size, n_y=n_size, n_z=n_size)\n",
    "\n",
    "voxelgrid = cloud.structures[voxelgrid_id]\n",
    "\n",
    "voxelgrid.plot(d=3, mode=n_mode, cmap=n_cmap)"
   ]
  },
  {
   "cell_type": "code",
   "execution_count": 70,
   "metadata": {},
   "outputs": [
    {
     "data": {
      "application/vnd.jupyter.widget-view+json": {
       "model_id": "330eb71a5e3b4de1b94719267c397071",
       "version_major": 2,
       "version_minor": 0
      },
      "text/plain": [
       "Renderer(camera=PerspectiveCamera(aspect=1.6, fov=90.0, position=(-0.09980212897062302, 5.240860551595688, 91.…"
      ]
     },
     "metadata": {},
     "output_type": "display_data"
    },
    {
     "data": {
      "application/vnd.jupyter.widget-view+json": {
       "model_id": "63fb1c77eb584180881ed98873925dc2",
       "version_major": 2,
       "version_minor": 0
      },
      "text/plain": [
       "HBox(children=(Label(value='Point size:'), FloatSlider(value=0.01, max=0.1, step=0.0001), Label(value='Backgro…"
      ]
     },
     "metadata": {},
     "output_type": "display_data"
    },
    {
     "data": {
      "application/vnd.jupyter.widget-view+json": {
       "model_id": "1d6ab4c97e3f4b2a8fbfa220ce7dbe7a",
       "version_major": 2,
       "version_minor": 0
      },
      "text/plain": [
       "Renderer(camera=PerspectiveCamera(aspect=1.6, fov=90.0, position=(15.48811149597168, 34.527273178100586, 60.66…"
      ]
     },
     "metadata": {},
     "output_type": "display_data"
    },
    {
     "data": {
      "application/vnd.jupyter.widget-view+json": {
       "model_id": "7852d237ac4a443f9fc02c8cb609d0e9",
       "version_major": 2,
       "version_minor": 0
      },
      "text/plain": [
       "Renderer(camera=PerspectiveCamera(aspect=1.6, fov=90.0, position=(31.492778778076172, 69.54808044433594, 123.6…"
      ]
     },
     "metadata": {},
     "output_type": "display_data"
    }
   ],
   "source": [
    "path =\"objects/Bild1_schiefeTower.stl\"\n",
    "\n",
    "\n",
    "\n",
    "\n",
    "test1_or = od.io.read_triangle_mesh(path)\n",
    "test1 = PyntCloud.from_instance(\"open3d\", test1_or)\n",
    "\n",
    "cloud = test1.get_sample(\n",
    "            \"mesh_random\",\n",
    "            n=100000,\n",
    "            rgb=False,\n",
    "            normals=False,\n",
    "            as_PyntCloud=True)\n",
    "cloud.plot(initial_point_size=0.01)\n",
    "\n",
    "n_size=32\n",
    "\n",
    "voxelgrid_id = cloud.add_structure(\"voxelgrid\", n_x=n_size, n_y=n_size, n_z=n_size)\n",
    "\n",
    "voxelgrid = cloud.structures[voxelgrid_id]\n",
    "\n",
    "voxelgrid.plot(d=3, mode=n_mode, cmap=n_cmap)\n",
    "\n",
    "n_size=64\n",
    "\n",
    "voxelgrid_id = cloud.add_structure(\"voxelgrid\", n_x=n_size, n_y=n_size, n_z=n_size)\n",
    "\n",
    "voxelgrid = cloud.structures[voxelgrid_id]\n",
    "\n",
    "voxelgrid.plot(d=3, mode=n_mode, cmap=n_cmap)"
   ]
  }
 ],
 "metadata": {
  "kernelspec": {
   "display_name": "Python 3",
   "language": "python",
   "name": "python3"
  },
  "language_info": {
   "codemirror_mode": {
    "name": "ipython",
    "version": 3
   },
   "file_extension": ".py",
   "mimetype": "text/x-python",
   "name": "python",
   "nbconvert_exporter": "python",
   "pygments_lexer": "ipython3",
   "version": "3.8.7"
  }
 },
 "nbformat": 4,
 "nbformat_minor": 4
}
